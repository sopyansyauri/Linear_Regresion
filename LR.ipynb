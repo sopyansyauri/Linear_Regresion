{
 "cells": [
  {
   "attachments": {},
   "cell_type": "markdown",
   "metadata": {},
   "source": [
    "# Linear Regression"
   ]
  },
  {
   "cell_type": "code",
   "execution_count": 1,
   "metadata": {},
   "outputs": [],
   "source": [
    "import numpy as np\n",
    "import sklearn.linear_model as lm\n",
    "from sklearn.metrics import r2_score"
   ]
  },
  {
   "attachments": {},
   "cell_type": "markdown",
   "metadata": {},
   "source": [
    "## Membuat Class LinearRegression"
   ]
  },
  {
   "cell_type": "code",
   "execution_count": 2,
   "metadata": {},
   "outputs": [],
   "source": [
    "class LinearRegression:\n",
    "    def __init__(self):\n",
    "        self.X = 0\n",
    "        self.y = 0\n",
    "        self.jumlah = 0\n",
    "\n",
    "    def fit(self,X, y):\n",
    "        self.X = X\n",
    "        self.y = y\n",
    "        self.X = np.array(self.X)\n",
    "        self.y = np.array(self.y)\n",
    "\n",
    "    def mean(self, x):\n",
    "        self.jumlah = x\n",
    "        return sum(self.jumlah) / len(self.jumlah)\n",
    "\n",
    "    def slope(self):\n",
    "        return self.covariance() / self.variance(self.X)\n",
    "\n",
    "    def covariance(self):\n",
    "        return (sum((self.X - np.mean(self.X))*(self.y - np.mean(self.y)))) / (len(self.X) - 1)\n",
    "\n",
    "    def variance(self, x):\n",
    "        return  np.var(x.flatten(), ddof=1)\n",
    "\n",
    "    def intercept(self):\n",
    "        return np.mean(self.y) - self.slope() * self.mean(self.X)\n",
    "\n",
    "    def predict(self, x):\n",
    "        return self.intercept() + self.slope() * x\n",
    "\n",
    "    def SSres(self, x, y):\n",
    "        return sum((y - self.predict(x)) ** 2)  \n",
    "\n",
    "    def SStot(self, y):\n",
    "        return sum((y - self.mean(y))**2)\n",
    "\n",
    "    def r_squared(self, x, y):\n",
    "        return 1 - (self.SSres(x, y) / self.SStot(y))\n",
    "\n",
    "    "
   ]
  },
  {
   "cell_type": "code",
   "execution_count": 3,
   "metadata": {},
   "outputs": [
    {
     "name": "stdout",
     "output_type": "stream",
     "text": [
      "Hasil dari module LinearRegression buatan Sendiri\n",
      "slope: 0.9762931034482758\n",
      "intercept: 1.9655172413793114\n",
      "r: 0.6620052929422551\n",
      "prediksi: [ 9.77586207 10.75215517 12.70474138 17.5862069  13.68103448]\n",
      "\n",
      "Hasil dari module scikit-learn\n",
      "slope: [[0.9762931]]\n",
      "intercept: [1.96551724]\n",
      "r2: 0.6620052929422551\n",
      "prediksibaru: [[ 9.77586207]\n",
      " [10.75215517]\n",
      " [12.70474138]\n",
      " [17.5862069 ]\n",
      " [13.68103448]]\n"
     ]
    }
   ],
   "source": [
    "x = [6, 8, 10, 14, 18]\n",
    "y = [7., 9., 13., 17.5, 18.]\n",
    "x = np.array(x)\n",
    "y = np.array(y)\n",
    "xbaru = x.reshape(-1, 1)\n",
    "ybaru = y.reshape(-1, 1)\n",
    "\n",
    "xtest = np.array([8, 9, 11, 16, 12])\n",
    "xtestbaru = xtest.reshape(-1,1)\n",
    "ytest = np.array([11, 8.5, 15, 18, 11])\n",
    "\n",
    "\n",
    "\n",
    "# Menggunakan model buatan sendiri\n",
    "model = LinearRegression()\n",
    "model.fit(x, y)\n",
    "cov = model.covariance()\n",
    "varian = model.variance(x)\n",
    "slope = model.slope()\n",
    "intercept = model.intercept()\n",
    "prediksi = model.predict(xtest)\n",
    "r = model.r_squared(xtest, ytest)\n",
    "SSres = model.SSres(xtest, ytest)\n",
    "SStot = model.SStot(ytest)\n",
    "\n",
    "# Menggunakan model buatan scikit-learn\n",
    "model2 = lm.LinearRegression()\n",
    "model2.fit(xbaru, ybaru)\n",
    "prediksibaru = model2.predict(xtestbaru)\n",
    "r2 = r2_score(ytest, prediksi)\n",
    "\n",
    "\n",
    "print(\"Hasil dari module LinearRegression buatan Sendiri\")\n",
    "print(f\"slope: {slope}\")\n",
    "print(f\"intercept: {intercept}\")\n",
    "print(f\"r: {r}\")\n",
    "print(f\"prediksi: {prediksi}\")\n",
    "\n",
    "print()\n",
    "\n",
    "print(\"Hasil dari module scikit-learn\")\n",
    "print(f\"slope: {model2.coef_}\")\n",
    "print(f\"intercept: {model2.intercept_}\")\n",
    "print(f\"r2: {r2}\")\n",
    "print(f\"prediksibaru: {prediksibaru}\")\n"
   ]
  }
 ],
 "metadata": {
  "kernelspec": {
   "display_name": "env",
   "language": "python",
   "name": "python3"
  },
  "language_info": {
   "codemirror_mode": {
    "name": "ipython",
    "version": 3
   },
   "file_extension": ".py",
   "mimetype": "text/x-python",
   "name": "python",
   "nbconvert_exporter": "python",
   "pygments_lexer": "ipython3",
   "version": "3.10.6"
  },
  "orig_nbformat": 4
 },
 "nbformat": 4,
 "nbformat_minor": 2
}
