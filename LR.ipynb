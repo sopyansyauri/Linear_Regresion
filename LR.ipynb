{
 "cells": [
  {
   "attachments": {},
   "cell_type": "markdown",
   "metadata": {},
   "source": [
    "# Linear Regression"
   ]
  },
  {
   "cell_type": "code",
   "execution_count": 44,
   "metadata": {},
   "outputs": [],
   "source": [
    "import numpy as np\n",
    "import sklearn.linear_model as lm\n",
    "from sklearn.metrics import r2_score\n",
    "import sklearn.model_selection as ms\n",
    "import pandas as pd"
   ]
  },
  {
   "attachments": {},
   "cell_type": "markdown",
   "metadata": {},
   "source": [
    "## Membuat Class LinearRegression"
   ]
  },
  {
   "attachments": {},
   "cell_type": "markdown",
   "metadata": {},
   "source": [
    "## Simple LinearRegression"
   ]
  },
  {
   "cell_type": "code",
   "execution_count": 77,
   "metadata": {},
   "outputs": [],
   "source": [
    "class LinearRegression:\n",
    "    def __init__(self):\n",
    "        self.X = 0\n",
    "        self.y = 0\n",
    "        self.jumlah = 0\n",
    "\n",
    "    def fit(self,X, y):\n",
    "        self.X = X\n",
    "        self.y = y\n",
    "        self.X = np.array(self.X)\n",
    "        self.y = np.array(self.y)\n",
    "\n",
    "    def mean(self, x):\n",
    "        self.jumlah = x\n",
    "        return sum(self.jumlah) / len(self.jumlah)\n",
    "\n",
    "    def slope(self):\n",
    "        return np.array(self.covariance() / self.variance(self.X)).reshape(1, len(self.X[0]))\n",
    "\n",
    "    def covariance(self):\n",
    "        return (sum((self.X - np.mean(self.X))*(self.y - np.mean(self.y)))) / (len(self.X) - 1)\n",
    "\n",
    "    def variance(self, x):\n",
    "        return  np.var(x.flatten(), ddof=1)\n",
    "\n",
    "    def intercept(self):\n",
    "        return np.array(np.mean(self.y) - self.slope() * self.mean(self.X)).reshape(len(self.X[0]))\n",
    "\n",
    "    def predict(self, x):\n",
    "        hasil = self.intercept() + self.slope() * x\n",
    "        return np.array(hasil)\n",
    "\n",
    "    def r_squared(self, ytest, yprediksi):\n",
    "        ytest = np.array(ytest)\n",
    "        yprediksi = np.array(yprediksi)\n",
    "        ss_res = sum((ytest - yprediksi) ** 2)  \n",
    "        ss_tot = sum((ytest - self.mean(ytest))**2)\n",
    "        hasil = 1 - (ss_res / ss_tot)\n",
    "        return hasil[0]\n",
    "\n",
    "    "
   ]
  },
  {
   "cell_type": "code",
   "execution_count": 79,
   "metadata": {},
   "outputs": [
    {
     "name": "stdout",
     "output_type": "stream",
     "text": [
      "Hasil dari module LinearRegression buatan Sendiri\n",
      "slope: [[6.36645961]]\n",
      "intercept: [12.50019168]\n",
      "r: 0.970786823562613\n",
      "prediksi: [[203.49397984]\n",
      " [ 50.69894931]\n",
      " [273.5250355 ]\n",
      " [267.15857589]\n",
      " [152.562303  ]\n",
      " [241.69273747]\n",
      " [235.32627786]\n",
      " [235.32627786]\n",
      " [107.99708576]\n",
      " [216.22689905]\n",
      " [178.02814142]\n",
      " [203.49397984]\n",
      " [235.32627786]]\n",
      "\n",
      "Hasil dari module scikit-learn\n",
      "slope: [[6.36645961]]\n",
      "intercept: [12.50019168]\n",
      "r2: 0.970786823562613\n",
      "prediksibaru: [[203.49397984]\n",
      " [ 50.69894931]\n",
      " [273.5250355 ]\n",
      " [267.15857589]\n",
      " [152.562303  ]\n",
      " [241.69273747]\n",
      " [235.32627786]\n",
      " [235.32627786]\n",
      " [107.99708576]\n",
      " [216.22689905]\n",
      " [178.02814142]\n",
      " [203.49397984]\n",
      " [235.32627786]]\n"
     ]
    }
   ],
   "source": [
    "x = [6, 8, 10, 14, 18]\n",
    "y = [7., 9., 13., 17.5, 18.]\n",
    "x = np.array(x).reshape(-1,1)\n",
    "y = np.array(y).reshape(-1,1)\n",
    "\n",
    "xtest = np.array([8, 9, 11, 16, 12]).reshape(-1,1)\n",
    "ytest = np.array([11, 8.5, 15, 18, 11]).reshape(-1,1)\n",
    "\n",
    "data = pd.read_csv(\"bensin.csv\")\n",
    "X = data[[ \"Liter\"]]\n",
    "Y = data[[\"Kilometer\"]]\n",
    "\n",
    "X_train, X_test, y_train, y_test = ms.train_test_split(X, Y, test_size=0.2)\n",
    "\n",
    "\n",
    "# Menggunakan model buatan sendiri\n",
    "model = LinearRegression()\n",
    "model.fit(X_train, y_train)\n",
    "slope = model.slope()\n",
    "intercept = model.intercept()\n",
    "prediksi = model.predict(X_test)\n",
    "r = model.r_squared(y_test, prediksi)\n",
    "\n",
    "# Menggunakan model buatan scikit-learn\n",
    "model2 = lm.LinearRegression()\n",
    "model2.fit(X_train, y_train)\n",
    "prediksibaru = model2.predict(X_test)\n",
    "r2 = r2_score(y_test, prediksibaru)\n",
    "\n",
    "\n",
    "print(\"Hasil dari module LinearRegression buatan Sendiri\")\n",
    "print(f\"slope: {slope}\")\n",
    "print(f\"intercept: {intercept}\")\n",
    "print(f\"r: {r}\")\n",
    "print(f\"prediksi: {prediksi}\")\n",
    "\n",
    "print()\n",
    "\n",
    "print(\"Hasil dari module scikit-learn\")\n",
    "print(f\"slope: {model2.coef_}\")\n",
    "print(f\"intercept: {model2.intercept_}\")\n",
    "print(f\"r2: {r2}\")\n",
    "print(f\"prediksibaru: {prediksibaru}\")\n"
   ]
  }
 ],
 "metadata": {
  "kernelspec": {
   "display_name": "env",
   "language": "python",
   "name": "python3"
  },
  "language_info": {
   "codemirror_mode": {
    "name": "ipython",
    "version": 3
   },
   "file_extension": ".py",
   "mimetype": "text/x-python",
   "name": "python",
   "nbconvert_exporter": "python",
   "pygments_lexer": "ipython3",
   "version": "3.10.6"
  },
  "orig_nbformat": 4
 },
 "nbformat": 4,
 "nbformat_minor": 2
}
