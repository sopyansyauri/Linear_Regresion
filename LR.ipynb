{
 "cells": [
  {
   "attachments": {},
   "cell_type": "markdown",
   "metadata": {},
   "source": [
    "# Linear Regression"
   ]
  },
  {
   "cell_type": "code",
   "execution_count": 1,
   "metadata": {},
   "outputs": [],
   "source": [
    "import numpy as np\n",
    "import sklearn.linear_model as lm\n",
    "from sklearn.metrics import r2_score\n",
    "import sklearn.model_selection as ms\n",
    "import pandas as pd"
   ]
  },
  {
   "attachments": {},
   "cell_type": "markdown",
   "metadata": {},
   "source": [
    "## Membuat Class LinearRegression"
   ]
  },
  {
   "attachments": {},
   "cell_type": "markdown",
   "metadata": {},
   "source": [
    "## Simple LinearRegression"
   ]
  },
  {
   "cell_type": "code",
   "execution_count": 34,
   "metadata": {},
   "outputs": [],
   "source": [
    "class LinearRegression:\n",
    "    def __init__(self):\n",
    "        self.X = 0\n",
    "        self.y = 0\n",
    "        self.jumlah = 0\n",
    "\n",
    "    def fit(self,X, y):\n",
    "        self.X = X\n",
    "        self.y = y\n",
    "        self.X = np.array(self.X)\n",
    "        self.y = np.array(self.y)\n",
    "\n",
    "    def mean(self, x):\n",
    "        self.jumlah = x\n",
    "        return sum(self.jumlah) / len(self.jumlah)\n",
    "\n",
    "    def slope(self):\n",
    "        return np.array(self.covariance() / self.variance(self.X)).reshape(1, len(self.X[0]))\n",
    "\n",
    "    def covariance(self):\n",
    "        return (sum((self.X - np.mean(self.X))*(self.y - np.mean(self.y)))) / (len(self.X) - 1)\n",
    "\n",
    "    def variance(self, x):\n",
    "        return  np.var(x.flatten(), ddof=1)\n",
    "\n",
    "    def intercept(self):\n",
    "        return np.array(np.mean(self.y) - self.slope() * self.mean(self.X)).reshape(len(self.X[0]))\n",
    "\n",
    "    def predict(self, x):\n",
    "        return self.intercept() + self.slope() * x\n",
    "\n",
    "    def SSres(self, x, y):\n",
    "        return sum((y - self.predict(x)) ** 2)  \n",
    "\n",
    "    def SStot(self, y):\n",
    "        return sum((y - self.mean(y))**2)\n",
    "\n",
    "    def r_squared(self, x, y):\n",
    "        return 1 - (self.SSres(x, y) / self.SStot(y))\n",
    "\n",
    "    "
   ]
  },
  {
   "cell_type": "code",
   "execution_count": 52,
   "metadata": {},
   "outputs": [
    {
     "name": "stdout",
     "output_type": "stream",
     "text": [
      "(13,)\n",
      "(13,)\n",
      "Hasil dari module LinearRegression buatan Sendiri\n",
      "slope: [[6.56548613]]\n",
      "intercept: [6.96846359]\n",
      "prediksi: [[171.10561695]\n",
      " [171.10561695]\n",
      " [269.58790897]\n",
      " [171.10561695]\n",
      " [249.89145056]\n",
      " [190.80207536]\n",
      " [171.10561695]\n",
      " [203.93304762]\n",
      " [177.67110309]\n",
      " [105.45075561]\n",
      " [138.27818628]\n",
      " [138.27818628]\n",
      " [171.10561695]]\n",
      "\n",
      "Hasil dari module scikit-learn\n",
      "slope: [[6.56548613]]\n",
      "intercept: [6.96846359]\n",
      "prediksibaru: [[171.10561695]\n",
      " [171.10561695]\n",
      " [269.58790897]\n",
      " [171.10561695]\n",
      " [249.89145056]\n",
      " [190.80207536]\n",
      " [171.10561695]\n",
      " [203.93304762]\n",
      " [177.67110309]\n",
      " [105.45075561]\n",
      " [138.27818628]\n",
      " [138.27818628]\n",
      " [171.10561695]]\n"
     ]
    }
   ],
   "source": [
    "x = [6, 8, 10, 14, 18]\n",
    "y = [7., 9., 13., 17.5, 18.]\n",
    "x = np.array(x).reshape(-1,1)\n",
    "y = np.array(y).reshape(-1,1)\n",
    "\n",
    "xtest = np.array([8, 9, 11, 16, 12]).reshape(-1,1)\n",
    "ytest = np.array([11, 8.5, 15, 18, 11]).reshape(-1,1)\n",
    "\n",
    "data = pd.read_csv(\"bensin.csv\")\n",
    "X = data[[ \"Liter\"]]\n",
    "Y = data[[\"Kilometer\"]]\n",
    "\n",
    "X_train, X_test, y_train, y_test = ms.train_test_split(X, Y, test_size=0.2)\n",
    "\n",
    "\n",
    "# Menggunakan model buatan sendiri\n",
    "model = LinearRegression()\n",
    "model.fit(X_train, y_train)\n",
    "# cov = model.covariance()\n",
    "# varian = model.variance(x)\n",
    "slope = model.slope()\n",
    "intercept = model.intercept()\n",
    "prediksi = model.predict(X_test)\n",
    "prediksi = np.array(prediksi)\n",
    "# r = model.r_squared(y_test, prediksi)\n",
    "# SSres = model.SSres(xtest, ytest)\n",
    "# SStot = model.SStot(ytest)\n",
    "\n",
    "# Menggunakan model buatan scikit-learn\n",
    "model2 = lm.LinearRegression()\n",
    "model2.fit(X_train, y_train)\n",
    "prediksibaru = model2.predict(X_test)\n",
    "r2 = r2_score(y_test, prediksibaru)\n",
    "\n",
    "\n",
    "print(\"Hasil dari module LinearRegression buatan Sendiri\")\n",
    "print(f\"slope: {slope}\")\n",
    "print(f\"intercept: {intercept}\")\n",
    "# print(f\"r: {r}\")\n",
    "print(f\"prediksi: {prediksi}\")\n",
    "\n",
    "print()\n",
    "\n",
    "print(\"Hasil dari module scikit-learn\")\n",
    "print(f\"slope: {model2.coef_}\")\n",
    "print(f\"intercept: {model2.intercept_}\")\n",
    "# print(f\"r2: {r2}\")\n",
    "print(f\"prediksibaru: {prediksibaru}\")\n"
   ]
  },
  {
   "cell_type": "code",
   "execution_count": 12,
   "metadata": {},
   "outputs": [
    {
     "name": "stdout",
     "output_type": "stream",
     "text": [
      "[1 2 3 4]\n"
     ]
    }
   ],
   "source": [
    "isi = np.array([[1,2,3,4]])\n",
    "isi = isi.reshape(len(isi[0]))\n",
    "print(isi)"
   ]
  }
 ],
 "metadata": {
  "kernelspec": {
   "display_name": "env",
   "language": "python",
   "name": "python3"
  },
  "language_info": {
   "codemirror_mode": {
    "name": "ipython",
    "version": 3
   },
   "file_extension": ".py",
   "mimetype": "text/x-python",
   "name": "python",
   "nbconvert_exporter": "python",
   "pygments_lexer": "ipython3",
   "version": "3.10.6"
  },
  "orig_nbformat": 4
 },
 "nbformat": 4,
 "nbformat_minor": 2
}
